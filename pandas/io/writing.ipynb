{
 "cells": [
  {
   "cell_type": "markdown",
   "metadata": {
    "deletable": true,
    "editable": true
   },
   "source": [
    "Writing Pandas DataFamres\n",
    "=========\n",
    "\n",
    "The goal of this exercise is to practice writing Pandas DataFrame objects out to disk using one of the various `.to_*` methods. The cell below will create the DataFrame that we will be writing:"
   ]
  },
  {
   "cell_type": "code",
   "execution_count": null,
   "metadata": {
    "collapsed": false,
    "deletable": true,
    "editable": true
   },
   "outputs": [],
   "source": [
    "import pandas as pd\n",
    "df = pd.DataFrame({\n",
    "        'continent' : ['Asia', 'Africa', 'Europe', 'North America', 'South America', 'Oceania', 'Antarctica'],\n",
    "        'density' : [96.4, 36.7, 72.9, 22.9, 22.8, 4.5, 3e-04],\n",
    "        'population' : [4436, 1216, 738, 579, 422, 39.9, 4e-03]\n",
    "    })"
   ]
  },
  {
   "cell_type": "markdown",
   "metadata": {
    "deletable": true,
    "editable": true
   },
   "source": [
    "Question 1.\n",
    "----------\n",
    "\n",
    "Write the DataFrame out to disk as a tab delimited file. Name it `pop.tab` and be sure not to include the index."
   ]
  },
  {
   "cell_type": "code",
   "execution_count": null,
   "metadata": {
    "collapsed": true,
    "deletable": true,
    "editable": true
   },
   "outputs": [],
   "source": [
    "df.to_csv('pop.tab',sep='\\t',index=False)"
   ]
  },
  {
   "cell_type": "code",
   "execution_count": null,
   "metadata": {
    "collapsed": false,
    "deletable": true,
    "editable": true
   },
   "outputs": [],
   "source": [
    "!cat pop.tab"
   ]
  },
  {
   "cell_type": "markdown",
   "metadata": {
    "deletable": true,
    "editable": true
   },
   "source": [
    "Question 2.\n",
    "----------\n",
    "\n",
    "Write the DataFrame to an Excel workbook named `pop.xlsx`. The table should belong to a sheet called `continents`, and there should be an empty first column before the data begin."
   ]
  },
  {
   "cell_type": "code",
   "execution_count": null,
   "metadata": {
    "collapsed": false,
    "deletable": true,
    "editable": true
   },
   "outputs": [],
   "source": [
    "df.to_excel('pop.xlsx',sheet_name='continents',index=False,start_col=1)"
   ]
  },
  {
   "cell_type": "markdown",
   "metadata": {
    "deletable": true,
    "editable": true
   },
   "source": [
    "Question 3.\n",
    "----------\n",
    "\n",
    "Write the DataFrame to a SQL database, with the table name `continents`, being sure not to overwrite or fail if the continent table is already in the database. "
   ]
  },
  {
   "cell_type": "code",
   "execution_count": null,
   "metadata": {
    "collapsed": false,
    "deletable": true,
    "editable": true
   },
   "outputs": [],
   "source": [
    "from sqlalchemy import create_engine\n",
    "db_str='sqlite://test.sqlite'\n",
    "engine=create_engine(db_str)\n",
    "df.to_sql('continents',engine,if_exsists='append')"
   ]
  }
 ],
 "metadata": {
  "kernelspec": {
   "display_name": "Python 3",
   "language": "python",
   "name": "python3"
  },
  "language_info": {
   "codemirror_mode": {
    "name": "ipython",
    "version": 3
   },
   "file_extension": ".py",
   "mimetype": "text/x-python",
   "name": "python",
   "nbconvert_exporter": "python",
   "pygments_lexer": "ipython3",
   "version": "3.5.2"
  }
 },
 "nbformat": 4,
 "nbformat_minor": 0
}
