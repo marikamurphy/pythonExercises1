{
 "cells": [
  {
   "cell_type": "code",
   "execution_count": 2,
   "metadata": {
    "collapsed": false,
    "deletable": true,
    "editable": true
   },
   "outputs": [],
   "source": [
    "import os\n",
    "import pandas as pd\n",
    "import matplotlib.pyplot as plt\n",
    "%matplotlib inline"
   ]
  },
  {
   "cell_type": "markdown",
   "metadata": {
    "deletable": true,
    "editable": true
   },
   "source": [
    "Download the Apple stock prices from 2010:"
   ]
  },
  {
   "cell_type": "code",
   "execution_count": 4,
   "metadata": {
    "collapsed": false,
    "deletable": true,
    "editable": true
   },
   "outputs": [
    {
     "data": {
      "image/png": "[encoded data removed]",
      "text/plain": [
       "<matplotlib.figure.Figure at 0x27402dbe780>"
      ]
     },
     "metadata": {},
     "output_type": "display_data"
    }
   ],
   "source": [
    "aapl = pd.read_csv('apple_stock.csv', parse_dates=True, index_col=0)\n",
    "aapl.loc[:,'Close'].plot()\n",
    "plt.show()"
   ]
  },
  {
   "cell_type": "markdown",
   "metadata": {
    "deletable": true,
    "editable": true
   },
   "source": [
    "Print the data from the last 4 weeks (see the `.last` method)"
   ]
  },
  {
   "cell_type": "code",
   "execution_count": 6,
   "metadata": {
    "collapsed": false,
    "deletable": true,
    "editable": true
   },
   "outputs": [
    {
     "data": {
      "text/html": [
       "<div>\n",
       "<style>\n",
       "    .dataframe thead tr:only-child th {\n",
       "        text-align: right;\n",
       "    }\n",
       "\n",
       "    .dataframe thead th {\n",
       "        text-align: left;\n",
       "    }\n",
       "\n",
       "    .dataframe tbody tr th {\n",
       "        vertical-align: top;\n",
       "    }\n",
       "</style>\n",
       "<table border=\"1\" class=\"dataframe\">\n",
       "  <thead>\n",
       "    <tr style=\"text-align: right;\">\n",
       "      <th></th>\n",
       "      <th>Open</th>\n",
       "      <th>High</th>\n",
       "      <th>Low</th>\n",
       "      <th>Close</th>\n",
       "      <th>Volume</th>\n",
       "      <th>Adj Close</th>\n",
       "    </tr>\n",
       "    <tr>\n",
       "      <th>Date</th>\n",
       "      <th></th>\n",
       "      <th></th>\n",
       "      <th></th>\n",
       "      <th></th>\n",
       "      <th></th>\n",
       "      <th></th>\n",
       "    </tr>\n",
       "  </thead>\n",
       "  <tbody>\n",
       "    <tr>\n",
       "      <th>2015-08-31</th>\n",
       "      <td>112.03</td>\n",
       "      <td>114.53</td>\n",
       "      <td>112.00</td>\n",
       "      <td>112.76</td>\n",
       "      <td>56229300</td>\n",
       "      <td>112.76</td>\n",
       "    </tr>\n",
       "    <tr>\n",
       "      <th>2015-09-01</th>\n",
       "      <td>110.15</td>\n",
       "      <td>111.88</td>\n",
       "      <td>107.36</td>\n",
       "      <td>107.72</td>\n",
       "      <td>76845900</td>\n",
       "      <td>107.72</td>\n",
       "    </tr>\n",
       "    <tr>\n",
       "      <th>2015-09-02</th>\n",
       "      <td>110.23</td>\n",
       "      <td>112.34</td>\n",
       "      <td>109.13</td>\n",
       "      <td>112.34</td>\n",
       "      <td>61888800</td>\n",
       "      <td>112.34</td>\n",
       "    </tr>\n",
       "    <tr>\n",
       "      <th>2015-09-03</th>\n",
       "      <td>112.49</td>\n",
       "      <td>112.78</td>\n",
       "      <td>110.04</td>\n",
       "      <td>110.37</td>\n",
       "      <td>52906400</td>\n",
       "      <td>110.37</td>\n",
       "    </tr>\n",
       "    <tr>\n",
       "      <th>2015-09-04</th>\n",
       "      <td>108.97</td>\n",
       "      <td>110.45</td>\n",
       "      <td>108.51</td>\n",
       "      <td>109.27</td>\n",
       "      <td>49963900</td>\n",
       "      <td>109.27</td>\n",
       "    </tr>\n",
       "    <tr>\n",
       "      <th>2015-09-08</th>\n",
       "      <td>111.75</td>\n",
       "      <td>112.56</td>\n",
       "      <td>110.32</td>\n",
       "      <td>112.31</td>\n",
       "      <td>54114200</td>\n",
       "      <td>112.31</td>\n",
       "    </tr>\n",
       "    <tr>\n",
       "      <th>2015-09-09</th>\n",
       "      <td>113.76</td>\n",
       "      <td>114.02</td>\n",
       "      <td>109.77</td>\n",
       "      <td>110.15</td>\n",
       "      <td>84344400</td>\n",
       "      <td>110.15</td>\n",
       "    </tr>\n",
       "    <tr>\n",
       "      <th>2015-09-10</th>\n",
       "      <td>110.27</td>\n",
       "      <td>113.28</td>\n",
       "      <td>109.90</td>\n",
       "      <td>112.57</td>\n",
       "      <td>62675200</td>\n",
       "      <td>112.57</td>\n",
       "    </tr>\n",
       "    <tr>\n",
       "      <th>2015-09-11</th>\n",
       "      <td>111.79</td>\n",
       "      <td>114.21</td>\n",
       "      <td>111.76</td>\n",
       "      <td>114.21</td>\n",
       "      <td>49441800</td>\n",
       "      <td>114.21</td>\n",
       "    </tr>\n",
       "    <tr>\n",
       "      <th>2015-09-14</th>\n",
       "      <td>116.58</td>\n",
       "      <td>116.89</td>\n",
       "      <td>114.86</td>\n",
       "      <td>115.31</td>\n",
       "      <td>58201900</td>\n",
       "      <td>115.31</td>\n",
       "    </tr>\n",
       "    <tr>\n",
       "      <th>2015-09-15</th>\n",
       "      <td>115.93</td>\n",
       "      <td>116.53</td>\n",
       "      <td>114.42</td>\n",
       "      <td>116.28</td>\n",
       "      <td>43004100</td>\n",
       "      <td>116.28</td>\n",
       "    </tr>\n",
       "    <tr>\n",
       "      <th>2015-09-16</th>\n",
       "      <td>116.25</td>\n",
       "      <td>116.54</td>\n",
       "      <td>115.44</td>\n",
       "      <td>116.41</td>\n",
       "      <td>36910000</td>\n",
       "      <td>116.41</td>\n",
       "    </tr>\n",
       "    <tr>\n",
       "      <th>2015-09-17</th>\n",
       "      <td>115.66</td>\n",
       "      <td>116.49</td>\n",
       "      <td>113.72</td>\n",
       "      <td>113.92</td>\n",
       "      <td>63462700</td>\n",
       "      <td>113.92</td>\n",
       "    </tr>\n",
       "    <tr>\n",
       "      <th>2015-09-18</th>\n",
       "      <td>112.21</td>\n",
       "      <td>114.30</td>\n",
       "      <td>111.87</td>\n",
       "      <td>113.45</td>\n",
       "      <td>73419000</td>\n",
       "      <td>113.45</td>\n",
       "    </tr>\n",
       "    <tr>\n",
       "      <th>2015-09-21</th>\n",
       "      <td>113.67</td>\n",
       "      <td>115.37</td>\n",
       "      <td>113.66</td>\n",
       "      <td>115.21</td>\n",
       "      <td>46554300</td>\n",
       "      <td>115.21</td>\n",
       "    </tr>\n",
       "    <tr>\n",
       "      <th>2015-09-22</th>\n",
       "      <td>113.38</td>\n",
       "      <td>114.18</td>\n",
       "      <td>112.52</td>\n",
       "      <td>113.40</td>\n",
       "      <td>49809000</td>\n",
       "      <td>113.40</td>\n",
       "    </tr>\n",
       "  </tbody>\n",
       "</table>\n",
       "</div>"
      ],
      "text/plain": [
       "              Open    High     Low   Close    Volume  Adj Close\n",
       "Date                                                           \n",
       "2015-08-31  112.03  114.53  112.00  112.76  56229300     112.76\n",
       "2015-09-01  110.15  111.88  107.36  107.72  76845900     107.72\n",
       "2015-09-02  110.23  112.34  109.13  112.34  61888800     112.34\n",
       "2015-09-03  112.49  112.78  110.04  110.37  52906400     110.37\n",
       "2015-09-04  108.97  110.45  108.51  109.27  49963900     109.27\n",
       "2015-09-08  111.75  112.56  110.32  112.31  54114200     112.31\n",
       "2015-09-09  113.76  114.02  109.77  110.15  84344400     110.15\n",
       "2015-09-10  110.27  113.28  109.90  112.57  62675200     112.57\n",
       "2015-09-11  111.79  114.21  111.76  114.21  49441800     114.21\n",
       "2015-09-14  116.58  116.89  114.86  115.31  58201900     115.31\n",
       "2015-09-15  115.93  116.53  114.42  116.28  43004100     116.28\n",
       "2015-09-16  116.25  116.54  115.44  116.41  36910000     116.41\n",
       "2015-09-17  115.66  116.49  113.72  113.92  63462700     113.92\n",
       "2015-09-18  112.21  114.30  111.87  113.45  73419000     113.45\n",
       "2015-09-21  113.67  115.37  113.66  115.21  46554300     115.21\n",
       "2015-09-22  113.38  114.18  112.52  113.40  49809000     113.40"
      ]
     },
     "execution_count": 6,
     "metadata": {},
     "output_type": "execute_result"
    }
   ],
   "source": [
    "aapl.last('4W')"
   ]
  },
  {
   "cell_type": "markdown",
   "metadata": {
    "deletable": true,
    "editable": true
   },
   "source": [
    "Extract the adjusted close column (\"Adj Close\"), resample the full data to a monthly period and plot.\n",
    "\n",
    "Do this 3 times, using the min, max, and mean of the resampling window."
   ]
  },
  {
   "cell_type": "code",
   "execution_count": 15,
   "metadata": {
    "collapsed": false,
    "deletable": true,
    "editable": true
   },
   "outputs": [
    {
     "data": {
      "image/png": "[encoded data removed]",
      "text/plain": [
       "<matplotlib.figure.Figure at 0x274043670f0>"
      ]
     },
     "metadata": {},
     "output_type": "display_data"
    }
   ],
   "source": [
    "minAdjClose = aapl.loc[:,\"Adj Close\"].resample('M').min()\n",
    "maxAdjClose = aapl.loc[:,\"Adj Close\"].resample('M').max()\n",
    "meanAdjClose = aapl.loc[:,\"Adj Close\"].resample('M').mean()\n",
    "minAdjClose.plot(label='Min')\n",
    "maxAdjClose.plot(label='Max')\n",
    "meanAdjClose.plot(label='Mean')\n",
    "plt.legend()\n",
    "plt.show()"
   ]
  },
  {
   "cell_type": "markdown",
   "metadata": {
    "deletable": true,
    "editable": true
   },
   "source": [
    "Create a date range of 4 steps, starting January 7, 2010 at 15:00, with a frequency of 1h and 20 minutes."
   ]
  },
  {
   "cell_type": "code",
   "execution_count": 17,
   "metadata": {
    "collapsed": false,
    "deletable": true,
    "editable": true
   },
   "outputs": [
    {
     "data": {
      "text/plain": [
       "DatetimeIndex(['2010-01-07 00:00:00', '2010-01-07 01:20:00',\n",
       "               '2010-01-07 02:40:00', '2010-01-07 04:00:00'],\n",
       "              dtype='datetime64[ns]', freq='80T')"
      ]
     },
     "execution_count": 17,
     "metadata": {},
     "output_type": "execute_result"
    }
   ],
   "source": [
    "import pandas as pd\n",
    "pd.date_range('2010-01-07',periods=4,freq='1H20min')"
   ]
  },
  {
   "cell_type": "markdown",
   "metadata": {
    "deletable": true,
    "editable": true
   },
   "source": [
    "Copyright 2008-2017, Enthought, Inc.<br>Use only permitted under license.  Copying, sharing, redistributing or other unauthorized use strictly prohibited.<br>http://www.enthought.com"
   ]
  }
 ],
 "metadata": {
  "kernelspec": {
   "display_name": "Python 3",
   "language": "python",
   "name": "python3"
  },
  "language_info": {
   "codemirror_mode": {
    "name": "ipython",
    "version": 3
   },
   "file_extension": ".py",
   "mimetype": "text/x-python",
   "name": "python",
   "nbconvert_exporter": "python",
   "pygments_lexer": "ipython3",
   "version": "3.5.2"
  }
 },
 "nbformat": 4,
 "nbformat_minor": 0
}
